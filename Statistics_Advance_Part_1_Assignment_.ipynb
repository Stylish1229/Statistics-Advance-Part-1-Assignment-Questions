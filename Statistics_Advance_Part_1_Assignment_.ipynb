{
  "nbformat": 4,
  "nbformat_minor": 0,
  "metadata": {
    "colab": {
      "provenance": []
    },
    "kernelspec": {
      "name": "python3",
      "display_name": "Python 3"
    },
    "language_info": {
      "name": "python"
    }
  },
  "cells": [
    {
      "cell_type": "markdown",
      "source": [
        "1. What is a random variable in probability theory ?\n",
        "- A random variable is a variable that takes on numerical values based on the outcome of a random experiment.\n",
        "\n"
      ],
      "metadata": {
        "id": "TdH9FvkthTZz"
      }
    },
    {
      "cell_type": "markdown",
      "source": [
        "2.  What are the types of random variables ?\n",
        "- There are two types :-\n",
        "1. Discrete random variable : Takes countable values.\n",
        "- Example: Number of heads in 3 coin tosses.\n",
        "2. Continuous random variable : Takes infinite values within a range.\n",
        "- Example: Time taken to run a race.\n"
      ],
      "metadata": {
        "id": "ei9djDB-h3-b"
      }
    },
    {
      "cell_type": "markdown",
      "source": [
        "3. What is the difference between discrete and continuous distributions ?\n",
        "- Difference between Discrete and Continuous Distributions :\n",
        "1. Discrete Distribution\n",
        "-  Deals with countable outcomes.  \n",
        "- Example : Tossing a coin → outcomes: heads or tails.\n",
        "\n",
        "2. Continuous Distribution  \n",
        "- Deals with uncountable (infinite) outcomes over an interval.  \n",
        "- Example : Measuring time or weight → values like 2.1, 2.11, 2.111 etc.\n",
        "\n",
        "- In short:  \n",
        "- Discrete → Whole numbers (counting).  \n",
        "- Continuous → Decimal numbers (measuring)."
      ],
      "metadata": {
        "id": "8erRTSF5iIZ4"
      }
    },
    {
      "cell_type": "markdown",
      "source": [
        "4. What are probability distribution functions (PDF) ?\n",
        "- Probability Distribution Functions (PDF) : A Probability Distribution Function describes how probabilities are distributed over the values of a random variable.\n"
      ],
      "metadata": {
        "id": "0DqYWVsFi64Y"
      }
    },
    {
      "cell_type": "markdown",
      "source": [
        "5. How do cumulative distribution functions (CDF) differ from probability distribution functions (PDF) ?\n",
        "- Difference Between CDF and PDF :\n",
        "1. PDF (Probability Density Function) : Used for continuous random variables.\n",
        "-  Describes how dense the probability is at a particular point.\n",
        "- Cannot give the probability of exact value (i.e., P(X=x)=0).\n",
        "- You get probability over an interval by calculating the area under the curve.\n",
        "- Ex = If PDF is for height, you can find probability that height is between 160 and 170 cm.\n",
        "2. CDF (Cumulative Distribution Function) : Used for both discrete and continuous random variables.\n",
        "- Gives the probability that a random variable is less than or equal to a value : P(X<=x)\n",
        "- Always increases from 0 to 1 as x increases.\n",
        "- It is the integral of the PDF (in continuous case).\n",
        "- Example = CDF at 170 cm gives probability that height is ≤ 170 cm.\n",
        "\n"
      ],
      "metadata": {
        "id": "YWa3nS6njVYt"
      }
    },
    {
      "cell_type": "markdown",
      "source": [
        "6. What is a discrete uniform distribution ?\n",
        "- A discrete uniform distribution is a type of probability distribution in which all possible outcomes are equally likely.If a random variable X has n distinct possible values X1,X2,X3....Xn  and each value has the same probability of occurring, then X follows a discrete uniform distribution.\n"
      ],
      "metadata": {
        "id": "Pcssw03kk-3d"
      }
    },
    {
      "cell_type": "markdown",
      "source": [
        "7. What are the key properties of a Bernoulli distribution ?\n",
        "- Key properties of Bernoulli distribution :\n",
        "1. Only two possible outcomes : 1(Success) , 0(Failure)\n",
        "2. Probability of success = p\n",
        "3. Probability of failure = 1-p\n",
        "4. Mean = p\n",
        "5. Variance = p(1-p)\n"
      ],
      "metadata": {
        "id": "L6Zyjdttm1sf"
      }
    },
    {
      "cell_type": "markdown",
      "source": [
        "8. What is the binomial distribution, and how is it used in probability ?\n",
        "- The binomial distribution is used when :\n",
        "- An experiment is repeated multiple times\n",
        "- Each trial has only two outcomes: success (1) or failure (0)\n",
        "- The probability of success stays the same in each trial\n",
        "- It is used in prbabilitiy and Statistics :  Predict outcomes (like “how many customers will buy?”) , Model real-world chances (like “how many machines will fail?”) , Help in surveys, experiments, and quality control .\n",
        "\n"
      ],
      "metadata": {
        "id": "whYPA-fwo_xb"
      }
    },
    {
      "cell_type": "markdown",
      "source": [
        "9. What is the Poisson distribution and where is it applied ?\n",
        "- The Poisson distribution is used when you're counting how many times an event happens in a fixed time or space .\n",
        "- Key Features : Used for counting events , Events happen randomly and independently\n",
        "- It is applied : Telecommunications (call arrivals),Traffic flow analysis,  Biology (mutation rates),Customer service (number of complaints per day),Banking (ATM withdrawals per hour).\n"
      ],
      "metadata": {
        "id": "KYd5gALTqYOs"
      }
    },
    {
      "cell_type": "markdown",
      "source": [
        "10. What is a continuous uniform distribution ?\n",
        "- A continuous uniform distribution is a probability distribution where every value in a continuous interval [a,b] is equally likely to occur.\n",
        "- Key Features : It deals with continuous data (like time, height, weight).\n",
        "- Values are between two points : a and b\n",
        "- Any number between a and b is equally likely\n",
        "- Ex = You wait for a bus that can arrive anytime between 10 and 10:30 AM (a = 10, b = 10.5).\n",
        "The chance of it arriving at any minute in that window is the same — that’s a continuous uniform distribution.\n",
        "\n",
        "\n"
      ],
      "metadata": {
        "id": "30tPEoTDrrt-"
      }
    },
    {
      "cell_type": "markdown",
      "source": [
        "11. What are the characteristics of a normal distribution ?\n",
        "- Characteristics of a Normal Distribution:\n",
        "1. Bell-shaped curve : The graph looks like a smooth, symmetric bell.\n",
        "2. Symmetrical about the mean : Left and right sides of the curve are mirror images.\n",
        "3. Mean = Median = Mode : All are located at the center of the curve.\n",
        "4. Tails extend to infinity : But never touch the x-axis (very low probability far from mean).\n",
        "5. Defined by two parameters :\n",
        "- μ (mu) = mean (center of the distribution)\n",
        "- σ (sigma) = standard deviation (spread or width)\n",
        "6. 68-95-99.7 Rule (Empirical Rule) : About 68% of data lies within 1 standard deviation\n",
        "- 95% within 2 , 99.7% within 3\n",
        "- Example = Heights of people , Test scores , Measurement errors\n",
        "- These usually follow a normal distribution when there's natural variation.\n"
      ],
      "metadata": {
        "id": "IlV77C41s0HK"
      }
    },
    {
      "cell_type": "markdown",
      "source": [
        "12. What is the standard normal distribution, and why is it important ?\n",
        "- It's a special type of normal distribution where :\n",
        "- Mean(μ) = 0\n",
        "- Standard Deviation(σ) = 1\n",
        "- So basically, it's the normal distribution but centered at 0 and scaled to have a standard deviation of 1.\n",
        "- It is important :\n",
        "1. Makes calculations easy : We use Z-scores to convert any normal distribution to the standard one.\n",
        "2. Z-tables are based on it : These tables give you probabilities quickly.\n",
        "3. Used in hypothesis testing and confidence intervals\n",
        "4. Universal tool : Helps compare scores from different normal distributions.\n",
        "\n",
        "\n",
        "\n",
        "\n",
        "\n",
        "\n",
        "\n",
        "\n",
        "\n"
      ],
      "metadata": {
        "id": "b6Pr1iZpuxMg"
      }
    },
    {
      "cell_type": "markdown",
      "source": [
        "13. What is the Central Limit Theorem (CLT), and why is it critical in statistics ?\n",
        "- The Central Limit Theorem says : If you take many random samples from any population (doesn't matter how the population is distributed), and calculate their means, then those sample means will follow a normal distribution — as long as the sample size is large enough(usually n>=30)\n",
        "- It is important :\n",
        "1. Allows us to use normal distribution even for non-normal data\n",
        "2. Helps in estimating population parameters using sample data\n",
        "3. Forms the basis of many statistical tests (like t-tests, confidence intervals, etc.)\n",
        "- Real-life example : Imagine you're measuring the average weight of potatoes in a big sack. Even if individual weights vary randomly, if you take samples (say, 30 potatoes each) and average them — those averages will form a normal curve. CLT is what lets us make predictions and decisions from data, even when the original data is messy\n",
        "\n",
        "\n"
      ],
      "metadata": {
        "id": "j0d75euGxIaU"
      }
    },
    {
      "cell_type": "markdown",
      "source": [
        "14. How does the Central Limit Theorem relate to the normal distribution ?\n",
        "- The Central Limit Theorem (CLT) explains why and how the normal distribution shows up so often in statistics.\n",
        "- The Connection : Even if the original data is not normally distributed (it could be skewed, random, or irregular)...\n",
        "- If you take many random samples (with sizen≥30 usually), and calculate the mean of each sample...\n",
        "- The distribution of those sample means will become approximately normal."
      ],
      "metadata": {
        "id": "L9QEM3cqyvyG"
      }
    },
    {
      "cell_type": "markdown",
      "source": [
        "15. What is the application of Z statistics in hypothesis testing ?\n",
        "- The application of Z statistics in hypothesis testing :\n",
        "- Z-statistics helps us decide whether to accept or reject a claim (called the null hypothesis) by comparing your sample result to what's expected — assuming the claim is true.\n",
        "- Applications in Hypothesis Testing :\n",
        "1. Testing population mean (when population variance is known)\n",
        "- Example: Is the average height really 170 cm\n",
        "2. Comparing two population means :\n",
        "-  Example : Is there a difference in test scores of two groups\n",
        "3. Testing population proportion :\n",
        "- Example : Is 60% of people really using this product"
      ],
      "metadata": {
        "id": "9XG2fUymzjEi"
      }
    },
    {
      "cell_type": "markdown",
      "source": [
        "16. How do you calculate a Z-score, and what does it represent ?\n",
        "- A Z-score tells you how far a data point is from the mean — in terms of standard deviations.\n",
        "- Z-score Formula : Z = (X - μ)/σ\n",
        "- Where :\n",
        "- X = your data point\n",
        "- μ = mean\n",
        "- σ = standard deviation\n",
        "- It represent :\n",
        "- Z = 0 :  the value is exactly at the mean\n",
        "- Z > 0 : the value is above the mean\n",
        "- Z < 0 :  the value is below the mean\n",
        "- Higher the absolute Z, further it is from average\n"
      ],
      "metadata": {
        "id": "dZFzDWgq2eKS"
      }
    },
    {
      "cell_type": "markdown",
      "source": [
        "17. What are point estimates and interval estimates in statistics ?\n",
        "\n",
        "- Point Estimate : A point estimate gives you one single value as your best guess of a population parameter.\n",
        "- Example = If you take a sample of students and find their average height is 165 cm\n",
        "Means = 165 cm is your point estimate of the population mean.\n",
        "- Interval Estimate : An interval estimate gives you a range of values (not just one), where the population parameter is likely to fall — with a certain level of confidence.\n",
        "- Example : You say: \"I'm 95% confident that the average height is between 162 cm and 168 cm.\"\n",
        "- That's your interval estimate, also called a confidence interval.\n",
        "\n",
        "\n",
        "\n"
      ],
      "metadata": {
        "id": "DSLOM7S86Tp_"
      }
    },
    {
      "cell_type": "markdown",
      "source": [
        "18. What is the significance of confidence intervals in statistical analysis ?\n",
        "- The significance of confidence intervals :\n",
        "- A confidence interval (CI) tells you how sure you are about your estimate of a population value — like the mean or proportion.\n",
        "- It gives a range of likely values, instead of just one number.\n",
        "- confidence intervals important :\n",
        "1. Shows reliability of estimate :\n",
        "→ A narrower CI = more precise estimate\n",
        "→ A wider CI = less precise\n",
        "2. Includes uncertainty :\n",
        "→ It accounts for sample variability, unlike a single point estimate.\n",
        "3. Helps in decision-making :\n",
        "→ If a CI for mean test scores is 68-72, and the passing mark is 60 → you're likely doing well.\n",
        "4. Used in hypothesis testing :\n",
        "→ If the CI does not include the value from the null hypothesis, you can reject it.\n",
        "- Example : Say you calculate a 95% CI for average weight as [68 kg, 72 kg]\n",
        "This means: “I'm 95% confident that the true average weight lies between 68 and 72 kg.”\n",
        "\n",
        "\n"
      ],
      "metadata": {
        "id": "xfiMmNTI8LVS"
      }
    },
    {
      "cell_type": "markdown",
      "source": [
        "19. What is the relationship between a Z-score and a confidence interval ?\n",
        "- Relationship Between Z-score and Confidence Interval : The Z-score is used to calculate confidence intervals when the population standard deviation is known and the data is normally distributed. Z-scores help you build confidence intervals by telling you how far to go from the mean based on your confidence level.\n",
        "\n"
      ],
      "metadata": {
        "id": "VKvzLRJ09WM6"
      }
    },
    {
      "cell_type": "markdown",
      "source": [
        "20. How are Z-scores used to compare different distributions ?\n",
        "- Z-scores used to compare different distributions : Z-scores let you standardize different values from different distributions, so you can compare them fairly — even if their means and standard deviations are different.\n",
        "- It's useful: Z-scores remove the units and convert everything to the same scale → in terms of \"how far from the mean\"."
      ],
      "metadata": {
        "id": "ySnhRA9L-wIJ"
      }
    },
    {
      "cell_type": "markdown",
      "source": [
        "21. What are the assumptions for applying the Central Limit Theorem ?\n",
        "- Assumptions for Applying CLT :\n",
        "1. Random Sampling : The sample data should be randomly selected from the population.\n",
        "2. Independence : Each observation in the sample must be independent of others.\n",
        "(One value shouldn't affect another)\n",
        "3. Sample Size(n):If population is normal, small sample size is okay.\n",
        "- If population is not normal, sample size should be large (usually\n",
        "n≥30).\n",
        "4. Finite Variance : The population should have a finite standard deviation (i.e., not infinite or undefined).\n",
        "\n"
      ],
      "metadata": {
        "id": "EtNvNmwW_Zy7"
      }
    },
    {
      "cell_type": "markdown",
      "source": [
        "22. What is the concept of expected value in a probability distribution  ?\n",
        "- The expected value is the average outcome you'd expect in the long run, if you repeated an experiment many times.\n",
        "- It's like the “mean” of a probability distribution. The expected value tells you what you'd expect on average, if you repeated the experiment many times.\n",
        "- Formula (for discrete distribution) : E(X) = ∑[x.P(x)]\n",
        "- Where :  x = value of the outcome\n",
        "- P(x) = probability of that outcome\n"
      ],
      "metadata": {
        "id": "LDtBkX8rAIu7"
      }
    },
    {
      "cell_type": "markdown",
      "source": [
        "23. How does a probability distribution relate to the expected outcome of a random variable ?\n",
        "- probability distribution relate to expected outcome :\n",
        "A probability distribution shows all possible values a random variable can take and how likely each value is.\n",
        "- The expected outcome (expected value) is the average value you'd get if you repeated the experiment many times — and it's calculated using the probability distribution.\n",
        "- So basically : The probability distribution gives the weights (probabilities),\n",
        "and the expected value is the weighted average of all possible outcomes.\n",
        "\n",
        "\n",
        "\n"
      ],
      "metadata": {
        "id": "epOBJYclBgBA"
      }
    },
    {
      "cell_type": "code",
      "source": [
        "#1. Write a Python program to generate a random variable and display its value ?\n",
        "import random\n",
        "\n",
        "# Generate a random integer between 1 and 100\n",
        "random_variable = random.randint(1, 100)\n",
        "\n",
        "# Display the value of the random variable\n",
        "print(f\"The generated random variable is: {random_variable}\")"
      ],
      "metadata": {
        "colab": {
          "base_uri": "https://localhost:8080/"
        },
        "id": "rdcy8u5yCcx9",
        "outputId": "e6ff083b-2b6d-4373-d230-89f0499e35a8"
      },
      "execution_count": 1,
      "outputs": [
        {
          "output_type": "stream",
          "name": "stdout",
          "text": [
            "The generated random variable is: 1\n"
          ]
        }
      ]
    },
    {
      "cell_type": "code",
      "source": [
        "#2. Generate a discrete uniform distribution using Python and plot the probability mass function (PMF) ?\n",
        "import numpy as np\n",
        "import matplotlib.pyplot as plt\n",
        "from scipy.stats import randint\n",
        "\n",
        "# Parameters for the discrete uniform distribution\n",
        "low = 1     # inclusive lower bound\n",
        "high = 7    # exclusive upper bound (acts like range(1, 7))\n",
        "\n",
        "# Create the distribution\n",
        "dist = randint(low, high)\n",
        "\n",
        "# Define the values for which we want to compute the PMF\n",
        "x = np.arange(low, high)\n",
        "pmf = dist.pmf(x)\n",
        "\n",
        "# Plot the PMF\n",
        "plt.figure(figsize=(8, 5))\n",
        "plt.stem(x, pmf, basefmt=\" \", use_line_collection=True)\n",
        "plt.xlabel('Value')\n",
        "plt.ylabel('Probability')\n",
        "plt.title('PMF of Discrete Uniform Distribution (randint(1, 7))')\n",
        "plt.xticks(x)\n",
        "plt.grid(True, linestyle='--', alpha=0.5)\n",
        "plt.show()\n"
      ],
      "metadata": {
        "id": "ioX_ewbcDstS"
      },
      "execution_count": null,
      "outputs": []
    },
    {
      "cell_type": "code",
      "source": [
        "#3.Write a Python function to calculate the probability distribution function (PDF) of a Bernoulli distribution ?\n",
        "def bernoulli_pdf(x, p):\n",
        "    \"\"\"\n",
        "    Calculate the PDF of a Bernoulli distribution.\n",
        "\n",
        "    Parameters:\n",
        "    x (int): The value of the random variable (0 or 1).\n",
        "    p (float): The probability of success (0 <= p <= 1).\n",
        "\n",
        "    Returns:\n",
        "    float: The probability P(X = x)\n",
        "    \"\"\"\n",
        "    if x not in [0, 1]:\n",
        "        raise ValueError(\"x must be 0 or 1 for a Bernoulli distribution.\")\n",
        "    if not (0 <= p <= 1):\n",
        "        raise ValueError(\"p must be between 0 and 1 (inclusive).\")\n",
        "\n",
        "    return (p ** x) * ((1 - p) ** (1 - x))\n",
        "\n",
        "# Example usage\n",
        "print(\"P(X=0):\", bernoulli_pdf(0, 0.3))\n",
        "print(\"P(X=1):\", bernoulli_pdf(1, 0.3))\n"
      ],
      "metadata": {
        "id": "sEKkbzL7Dzte"
      },
      "execution_count": null,
      "outputs": []
    },
    {
      "cell_type": "code",
      "source": [
        "#4. Write a Python script to simulate a binomial distribution with n=10 and p=0.5, then plot its histogram ?\n",
        "import numpy as np\n",
        "import matplotlib.pyplot as plt\n",
        "\n",
        "# Parameters\n",
        "n = 10        # number of trials\n",
        "p = 0.5       # probability of success\n",
        "size = 10000  # number of simulations\n",
        "\n",
        "# Simulate binomial distribution\n",
        "samples = np.random.binomial(n, p, size)\n",
        "\n",
        "# Plot histogram\n",
        "plt.figure(figsize=(8, 5))\n",
        "plt.hist(samples, bins=np.arange(n+2)-0.5\n",
        "\n"
      ],
      "metadata": {
        "id": "ceD_BiMDEDx3"
      },
      "execution_count": null,
      "outputs": []
    },
    {
      "cell_type": "code",
      "source": [
        "#5. Create a Poisson distribution and visualize it using Python ?\n",
        "import numpy as np\n",
        "import matplotlib.pyplot as plt\n",
        "from scipy.stats import poisson\n",
        "\n",
        "# Parameters\n",
        "lambda_val = 4  # average number of events (λ)\n",
        "x = np.arange(0, 15)  # values to evaluate PMF\n",
        "\n",
        "# PMF of the Poisson distribution\n",
        "pmf = poisson.pmf(x, mu=lambda_val)\n",
        "\n",
        "# Plotting the PMF\n",
        "plt.figure(figsize=(8, 5))\n",
        "plt.stem(x, pmf, basefmt=\" \", use_line_collection=True)\n",
        "plt.title(f'Poisson Distribution PMF (λ = {lambda_val})')\n",
        "plt.xlabel('Number of Events')\n",
        "plt.ylabel('Probability')\n",
        "plt.grid(True, linestyle='--', alpha=0.5)\n",
        "plt.xticks(x)\n",
        "plt.show()\n",
        "\n"
      ],
      "metadata": {
        "id": "zvb2Ph5WETaL"
      },
      "execution_count": null,
      "outputs": []
    },
    {
      "cell_type": "code",
      "source": [
        "#6. Write a Python program to calculate and plot the cumulative distribution function (CDF) of a discrete uniform distribution ?\n",
        "import numpy as np\n",
        "import matplotlib.pyplot as plt\n",
        "from scipy.stats import randint\n",
        "\n",
        "# Define parameters\n",
        "a = 1  # inclusive lower bound\n",
        "b = 7  # exclusive upper bound (like range(1, 7))\n",
        "\n",
        "# Create discrete uniform distribution object\n",
        "dist = randint(a, b)\n",
        "\n",
        "# Values to calculate CDF\n",
        "x = np.arange(a - 1, b\n",
        "\n"
      ],
      "metadata": {
        "id": "xVnSvBTjEe8A"
      },
      "execution_count": null,
      "outputs": []
    },
    {
      "cell_type": "code",
      "source": [
        "#7. Generate a continuous uniform distribution using NumPy and visualize it ?\n",
        "import numpy as np\n",
        "import matplotlib.pyplot as plt\n",
        "\n",
        "# Parameters for the uniform distribution\n",
        "a = 2    # lower bound\n",
        "b = 8    # upper bound\n",
        "size = 10000  # number of samples\n",
        "\n",
        "# Generate samples from the continuous uniform distribution\n",
        "samples = np.random.uniform(a, b, size)\n",
        "\n",
        "# Plot histogram\n",
        "plt.figure(figsize=(8, 5))\n",
        "plt.hist(samples, bins=50, density=True, edgecolor='black', alpha=0.7, color='skyblue')\n",
        "plt.axhline(y=1/(b - a), color='red', linestyle='--', label='Theoretical PDF')\n",
        "plt.title(f'Continuous Uniform Distribution U({a}, {b})')\n",
        "plt.xlabel('Value')\n",
        "plt.ylabel('Density')\n",
        "plt.legend()\n",
        "plt.grid(True, linestyle='--', alpha=0.5)\n",
        "plt.show()\n"
      ],
      "metadata": {
        "id": "byGbmYpIE11A"
      },
      "execution_count": null,
      "outputs": []
    },
    {
      "cell_type": "code",
      "source": [
        "#8. Simulate data from a normal distribution and plot its histogram ?\n",
        "import numpy as np\n",
        "import matplotlib.pyplot as plt\n",
        "\n",
        "# Parameters for the normal distribution\n",
        "mean = 0       # μ\n",
        "std_dev = 1    # σ\n",
        "size = 10000   # number of samples\n",
        "\n",
        "# Generate random samples from the normal distribution\n",
        "samples = np.random.normal(loc=mean, scale=std_dev, size=size)\n",
        "\n",
        "# Plot histogram\n",
        "plt.figure(figsize=(8, 5))\n",
        "plt.hist(samples, bins=50, density=True, color='skyblue', edgecolor='black', alpha=0.7)\n",
        "plt.title(f'Normal Distribution Histogram (μ = {mean}, σ = {std_dev})')\n",
        "plt.xlabel('Value')\n",
        "plt.ylabel('Density')\n",
        "plt.grid(True, linestyle='--', alpha=0.5)\n",
        "plt.show()\n"
      ],
      "metadata": {
        "id": "whrwLboGFGMD"
      },
      "execution_count": null,
      "outputs": []
    },
    {
      "cell_type": "code",
      "source": [
        "#9.Write a Python function to calculate Z-scores from a dataset and plot them ?\n",
        "import numpy as np\n",
        "import matplotlib.pyplot as plt\n",
        "\n",
        "def calculate_and_plot_zscores(data):\n",
        "    \"\"\"\n",
        "    Calculate Z-scores from a dataset and plot them.\n",
        "\n",
        "    Parameters:\n",
        "    data (list or numpy array): Input dataset\n",
        "    \"\"\"\n",
        "    data = np.array(data)\n",
        "    mean = np.mean(data)\n",
        "    std = np.std(data)\n",
        "\n",
        "    # Calculate Z-scores\n",
        "    z_scores = (data - mean) / std\n",
        "\n",
        "    # Plot Z-scores\n",
        "    plt.figure(figsize=(10, 5))\n",
        "    plt.plot(z_scores, marker='o', linestyle='', color='purple', alpha=0.7)\n",
        "    plt.axhline(y=0, color='black', linestyle='--', label='Mean (Z=0)')\n",
        "    plt.axhline(y=1, color='green', linestyle='--', label='Z=1')\n",
        "    plt.axhline(y=-1, color='red', linestyle='--', label='Z=-1')\n",
        "    plt.title('Z-scores of Dataset')\n",
        "    plt.xlabel('Index')\n",
        "    plt.ylabel('Z-score')\n",
        "    plt.legend()\n",
        "    plt.grid(True, linestyle='--', alpha=0.5)\n",
        "    plt.show()\n",
        "\n",
        "    return z_scores\n",
        "\n",
        "# Example usage\n",
        "data = np.random.normal(50, 10, 100)  # Simulate some data\n",
        "z_scores = calculate_and_plot_zscores(data)\n"
      ],
      "metadata": {
        "id": "5Hhz8PoLFclx"
      },
      "execution_count": null,
      "outputs": []
    },
    {
      "cell_type": "code",
      "source": [
        "#10. Implement the Central Limit Theorem (CLT) using Python for a non-normal distribution ?\n",
        "import numpy as np\n",
        "import matplotlib.pyplot as plt\n",
        "\n",
        "# Parameters\n",
        "population_size = 100000\n",
        "sample_size = 30        # Number of data points in each sample\n",
        "num_samples = 1000      # Number of samples to draw\n",
        "\n",
        "# Step 1: Generate non-normal population data (exponential)\n",
        "population = np.random.exponential(scale=2.0, size=population_size)\n",
        "\n",
        "# Step 2: Draw samples and compute sample means\n",
        "sample_means = []\n",
        "for _ in range(num_samples):\n",
        "    sample = np.random.choice(population, size=sample_size, replace=False)\n",
        "    sample_means.append(np.mean(sample))\n",
        "\n",
        "# Step 3: Plot histogram of sample means\n",
        "plt.figure(figsize=(8, 5))\n",
        "plt.hist(sample_means, bins=40, density=True, color='skyblue', edgecolor='black', alpha=0.7)\n",
        "plt.title(f'CLT Demonstration: Distribution of Sample Means\\n(from Exponential Distribution, n={sample_size})')\n",
        "plt.xlabel('Sample Mean')\n",
        "plt.ylabel('Density')\n",
        "plt.grid(True, linestyle='--', alpha=0.5)\n",
        "plt.show()\n"
      ],
      "metadata": {
        "id": "-O-lCAlaFrxH"
      },
      "execution_count": null,
      "outputs": []
    },
    {
      "cell_type": "code",
      "source": [
        "#15.Simulate multiple samples from a normal distribution and verify the Central Limit Theorem ?\n",
        "import numpy as np\n",
        "import matplotlib.pyplot as plt\n",
        "from scipy.stats import norm\n",
        "\n",
        "# Parameters\n",
        "mu = 50            # population mean\n",
        "sigma = 10         # population standard deviation\n",
        "sample_size = 30   # size of each sample\n",
        "num_samples = 1000 # number of samples\n",
        "\n",
        "# Step 1: Simulate sample means\n",
        "sample_means = []\n",
        "for _ in range(num_samples):\n",
        "    sample = np.random.normal(mu, sigma, sample_size)\n",
        "    sample_mean = np.mean(sample)\n",
        "    sample_means.append(sample_mean)\n",
        "\n",
        "# Step 2: Plot histogram of sample means\n",
        "plt.figure(figsize=(8, 5))\n",
        "count, bins, ignored = plt.hist(sample_means, bins=40, density=True, color='skyblue', edgecolor='black', alpha=0.7)\n",
        "\n",
        "# Step 3: Overlay theoretical normal distribution curve\n",
        "x = np.linspace(min(bins), max(bins), 1000)\n",
        "plt.plot(x, norm.pdf(x, mu, sigma / np.sqrt(sample_size)), 'r--', linewidth=2, label='Theoretical Normal (CLT)')\n",
        "\n",
        "# Labels and grid\n",
        "plt.title(f'Central Limit Theorem (CLT) Verification\\nSampling Distribution of Sample Mean (n={sample_size})')\n",
        "plt.xlabel('Sample Mean')\n",
        "plt.ylabel('Density')\n",
        "plt.grid(True, linestyle='--', alpha=0.5)\n",
        "plt.legend()\n",
        "plt.show()\n"
      ],
      "metadata": {
        "id": "VNBn8oF6GQN9"
      },
      "execution_count": null,
      "outputs": []
    },
    {
      "cell_type": "code",
      "source": [
        "#16.Write a Python function to calculate and plot the standard normal distribution (mean = 0, std = 1)?\n",
        "import numpy as np\n",
        "import matplotlib.pyplot as plt\n",
        "from scipy.stats import norm\n",
        "\n",
        "def plot_standard_normal():\n",
        "    \"\"\"\n",
        "    Calculates and plots the Standard Normal Distribution (mean=0, std=1)\n",
        "    \"\"\"\n",
        "    # Define the range of x values\n",
        "    x = np.linspace(-4, 4, 1000)\n",
        "\n",
        "    # Compute the PDF of the standard normal distribution\n",
        "    y = norm.pdf(x, loc=0, scale=1)\n",
        "\n",
        "    # Plotting\n",
        "    plt.figure(figsize=(8, 5))\n",
        "    plt.plot(x, y, color='blue', linewidth=2, label='Standard Normal PDF')\n",
        "    plt.fill_between(x, y, alpha=0.2, color='blue')\n",
        "    plt.title('Standard Normal Distribution (μ=0, σ=1)')\n",
        "    plt.xlabel('x')\n",
        "    plt.ylabel('Probability Density')\n",
        "    plt.grid(True, linestyle='--', alpha=0.5)\n",
        "    plt.axvline(0, color='black', linestyle='--', linewidth=1)\n",
        "    plt.legend()\n",
        "    plt.show()\n",
        "\n",
        "# Call the function\n",
        "plot_standard_normal()\n"
      ],
      "metadata": {
        "id": "bXPlpkN5HRdR"
      },
      "execution_count": null,
      "outputs": []
    },
    {
      "cell_type": "code",
      "source": [
        "#17. Generate random variables and calculate their corresponding probabilities using the binomial distribution ?\n",
        "import numpy as np\n",
        "import matplotlib.pyplot as plt\n",
        "from scipy.stats import binom\n",
        "\n",
        "# Parameters\n",
        "n = 10       # number of trials\n",
        "p = 0.5      # probability of success\n",
        "size = 1000  # number of random variables to generate\n",
        "\n",
        "# Step 1: Generate random binomial variables\n",
        "random_vars = np.random.binomial(n, p, size)\n",
        "\n",
        "# Step 2: Get unique values and their counts\n",
        "values, counts = np.unique(random_vars, return_counts=True)\n",
        "\n",
        "# Normalize counts to get empirical probabilities\n",
        "empirical_probs = counts / size\n",
        "\n",
        "# Step 3: Calculate theoretical PMF using binom.pmf\n",
        "theoretical_probs = binom.pmf(values, n, p)\n",
        "\n",
        "# Step 4: Plot both empirical and theoretical probabilities\n",
        "plt.figure(figsize=(8, 5))\n",
        "plt.bar(values - 0.2, empirical_probs, width=0.4, color='skyblue', label='Empirical', alpha=0.7)\n",
        "plt.bar(values + 0.2, theoretical_probs, width=0.4, color='orange', label='Theoretical', alpha=0.7)\n",
        "plt.title(f'Binomial Distribution (n={n}, p={p})')\n",
        "plt.xlabel('Number of Successes')\n",
        "plt.ylabel('Probability')\n",
        "plt.xticks(values)\n",
        "plt.legend()\n",
        "plt.grid(True, linestyle='--', alpha=0.5)\n",
        "plt.show()\n"
      ],
      "metadata": {
        "id": "dywLApz9HgCd"
      },
      "execution_count": null,
      "outputs": []
    },
    {
      "cell_type": "code",
      "source": [
        "#18.Write a Python program to calculate the Z-score for a given data point and compare it to a standard normal distribution ?\n",
        "import numpy as np\n",
        "import matplotlib.pyplot as plt\n",
        "from scipy.stats import norm\n",
        "\n",
        "def calculate_z_score(x, mean, std_dev):\n",
        "    \"\"\"\n",
        "    Calculate the Z-score of a given data point.\n",
        "    \"\"\"\n",
        "    return (x - mean) / std_dev\n",
        "\n",
        "def plot_z_score(x, mean, std_dev):\n",
        "    \"\"\"\n",
        "    Calculate Z-score and plot it on the standard normal distribution.\n",
        "    \"\"\"\n",
        "    # Calculate Z\n",
        "    z = calculate_z_score(x, mean, std_dev)\n",
        "    print(f\"Z-score of x = {x} is: {z:.2f}\")\n",
        "\n",
        "    # Plot standard normal distribution\n",
        "    x_vals = np.linspace(-4, 4, 1000)\n",
        "    y_vals = norm.pdf(x_vals)\n",
        "\n",
        "    plt.figure(figsize=(10, 5))\n",
        "    plt.plot(x_vals, y_vals, label='Standard Normal Curve', color='blue')\n",
        "    plt.fill_between(x_vals, y_vals, where=(x_vals <= z), color='skyblue', alpha=0.5, label='P(Z ≤ z)')\n",
        "    plt.axvline(z, color='red', linestyle='--', label=f'Z = {z:.2f}')\n",
        "\n",
        "    plt.title('Z-score on Standard Normal Distribution')\n",
        "    plt.xlabel('Z-score')\n",
        "    plt.ylabel('Probability Density')\n",
        "    plt.grid(True, linestyle='--', alpha=0.5)\n",
        "    plt.legend()\n",
        "    plt.show()\n",
        "\n",
        "# Example usage\n",
        "data_point = 85\n",
        "mean = 70\n",
        "std_dev = 10\n",
        "\n",
        "plot_z_score(data_point, mean, std_dev)\n",
        "\n",
        "\n"
      ],
      "metadata": {
        "id": "l3IuR3KdHtHY"
      },
      "execution_count": null,
      "outputs": []
    },
    {
      "cell_type": "code",
      "source": [
        "#19.Implement hypothesis testing using Z-statistics for a sample dataset ?\n",
        "import numpy as np\n",
        "from scipy.stats import norm\n",
        "\n",
        "def z_test(sample_data, population_mean, population_std, alpha=0.05, alternative='two-sided'):\n",
        "    \"\"\"\n",
        "    Performs a one-sample Z-test.\n",
        "\n",
        "    Parameters:\n",
        "    - sample_data (list or array): sample values\n",
        "    - population_mean (float): hypothesized population mean (H0)\n",
        "    - population_std (float): known population standard deviation\n",
        "    - alpha (float): significance level (default = 0.05)\n",
        "    - alternative (str): 'two-sided', 'greater', or 'less'\n",
        "\n",
        "    Returns:\n",
        "    - z_score, p_value, and test result\n",
        "    \"\"\"\n",
        "    sample_mean = np.mean(sample_data)\n",
        "    n = len(sample_data)\n",
        "    standard_error = population_std / np.sqrt(n)\n",
        "    z_score = (sample_mean - population_mean) / standard_error\n",
        "\n",
        "    # Determine p-value based on test type\n",
        "    if alternative == 'two-sided':\n",
        "        p_value = 2 * (1 - norm.cdf(abs(z_score)))\n",
        "    elif alternative == 'greater':\n",
        "        p_value = 1 - norm.cdf(z_score)\n",
        "    elif alternative == 'less':\n",
        "        p_value = norm.cdf(z_score)\n",
        "    else:\n",
        "        raise ValueError(\"alternative must be 'two-sided', 'greater', or 'less'\")\n",
        "\n",
        "    # Hypothesis test result\n",
        "    reject_null = p_value < alpha\n",
        "\n",
        "    # Print results\n",
        "    print(f\"Z-score: {z_score:.4f}\")\n",
        "    print(f\"P-value: {p_value:.4f}\")\n",
        "    print(\"Reject null hypothesis (H₀)\" if reject_null else \"Fail to reject null hypothesis (H₀)\")\n",
        "\n",
        "    return z_score, p_value, reject_null\n",
        "\n",
        "# Example usage\n",
        "sample = [52, 49, 51, 48, 50, 53, 49, 51, 50, 52]\n",
        "mu_0 = 50         # Hypothesized population mean\n",
        "sigma = 2         # Known population standard deviation\n",
        "alpha = 0.05\n",
        "\n",
        "z_test(sample, mu_0, sigma, alpha, alternative='two-sided')\n"
      ],
      "metadata": {
        "id": "HqVDZtURIAuH"
      },
      "execution_count": null,
      "outputs": []
    },
    {
      "cell_type": "code",
      "source": [
        "#20. Create a confidence interval for a dataset using Python and interpret the result ?\n",
        "import numpy as np\n",
        "import scipy.stats as stats\n",
        "\n",
        "def confidence_interval(data, confidence=0.95):\n",
        "    \"\"\"\n",
        "    Calculates the confidence interval for the mean of a dataset.\n",
        "\n",
        "    Parameters:\n",
        "    - data: list or array of sample data\n",
        "    - confidence: confidence level (default = 95%)\n",
        "\n",
        "    Returns:\n",
        "    - (lower_bound, upper_bound): the confidence interval\n",
        "    \"\"\"\n",
        "    n = len(data)\n",
        "    mean = np.mean(data)\n",
        "    std_err = stats.sem(data)  # standard error of the mean\n",
        "    margin = std_err * stats.t.ppf((1 + confidence) / 2, df=n-1)  # t-distribution\n",
        "\n",
        "    lower = mean - margin\n",
        "    upper = mean + margin\n",
        "\n",
        "    print(f\"{int(confidence*100)}% Confidence Interval for the Mean: ({lower:.2f}, {upper:.2f})\")\n",
        "    return lower, upper\n",
        "\n",
        "# Example usage\n",
        "sample_data = [52, 49, 51, 48, 50, 53, 49, 51, 50, 52]\n",
        "confidence_interval(sample_data, confidence=0.95)\n"
      ],
      "metadata": {
        "id": "QB0mLmQvIP0T"
      },
      "execution_count": null,
      "outputs": []
    },
    {
      "cell_type": "code",
      "source": [
        "#21. Generate data from a normal distribution, then calculate and interpret the confidence interval for its mean ?\n",
        "import numpy as np\n",
        "import scipy.stats as stats\n",
        "import matplotlib.pyplot as plt\n",
        "\n",
        "# Step 1: Generate data from a normal distribution\n",
        "np.random.seed(42)  # for reproducibility\n",
        "mu = 100            # true population mean\n",
        "sigma = 15          # true population standard deviation\n",
        "n = 50              # sample size\n",
        "\n",
        "data = np.random.normal(mu, sigma, n)\n",
        "\n",
        "# Step 2: Calculate the 95% confidence interval for the mean\n",
        "sample_mean = np.mean(data)\n",
        "std_err = stats.sem(data)  # standard error of the mean\n",
        "confidence = 0.95\n",
        "margin = std_err * stats.t.ppf((1 + confidence) / 2, df=n-1)\n",
        "\n",
        "ci_lower = sample_mean - margin\n",
        "ci_upper = sample_mean + margin\n",
        "\n",
        "print(f\"Sample Mean: {sample_mean:.2f}\")\n",
        "print(f\"95% Confidence Interval: ({ci_lower:.2f}, {ci_upper:.2f})\")\n",
        "\n",
        "# Step 3: Plot the data and the confidence interval\n",
        "plt.figure(figsize=(8, 4))\n",
        "plt.hist(data, bins=10, color='skyblue', edgecolor='black', alpha=0.7)\n",
        "plt.axvline(sample_mean, color='red', linestyle='--', label='Sample Mean')\n",
        "plt.axvline(ci_lower, color='green', linestyle='--', label='95% CI Lower')\n",
        "plt.axvline(ci_upper, color='green', linestyle='--', label='95% CI Upper')\n",
        "plt.title('Normal Distribution Sample and Confidence Interval')\n",
        "plt.xlabel('Value')\n",
        "plt.ylabel('Frequency')\n",
        "plt.legend()\n",
        "plt.grid(True, linestyle='--', alpha=0.5)\n",
        "plt.show()\n"
      ],
      "metadata": {
        "id": "1qTkbIlhIczi"
      },
      "execution_count": null,
      "outputs": []
    },
    {
      "cell_type": "code",
      "source": [
        "#22. Write a Python script to calculate and visualize the probability density function (PDF) of a normal distribution ?\n",
        "import numpy as np\n",
        "import matplotlib.pyplot as plt\n",
        "from scipy.stats import norm\n",
        "\n",
        "# Parameters of the normal distribution\n",
        "mu = 0      # mean\n",
        "sigma = 1   # standard deviation\n",
        "\n",
        "# Step 1: Generate x values (range for the plot)\n",
        "x = np.linspace(mu - 4*sigma, mu + 4*sigma, 1000)\n",
        "\n",
        "# Step 2: Calculate the PDF values\n",
        "pdf = norm.pdf(x, mu, sigma)\n",
        "\n",
        "# Step 3: Plot the PDF\n",
        "plt.figure(figsize=(8, 5))\n",
        "plt.plot(x, pdf, color='blue', linewidth=2, label=f'N({mu}, {sigma}²)')\n",
        "plt.fill_between(x, pdf, alpha=0.2, color='skyblue')\n",
        "plt.title('Probability Density Function (PDF) of Normal Distribution')\n",
        "plt.xlabel('x')\n",
        "plt.ylabel('Density')\n",
        "plt.grid(True, linestyle='--', alpha=0.5)\n",
        "plt.axvline(mu, color='red', linestyle='--', label='Mean')\n",
        "plt.legend()\n",
        "plt.show()\n"
      ],
      "metadata": {
        "id": "KELDsq3aItTG"
      },
      "execution_count": null,
      "outputs": []
    },
    {
      "cell_type": "code",
      "source": [
        "#23.Use Python to calculate and interpret the cumulative distribution function (CDF) of a Poisson distribution ?\n",
        "import numpy as np\n",
        "import matplotlib.pyplot as plt\n",
        "from scipy.stats import poisson\n",
        "\n",
        "# Parameters\n",
        "lambda_val = 3  # average rate (mean of the Poisson distribution)\n",
        "x_vals = np.arange(0, 15)  # range of x values (discrete)\n",
        "\n",
        "# Step 1: Calculate CDF\n",
        "cdf_vals = poisson.cdf(x_vals, mu=lambda_val)\n",
        "\n",
        "# Step 2: Print and interpret a specific CDF value\n",
        "x_check = 5\n",
        "cdf_at_x = poisson.cdf(x_check, mu=lambda_val)\n",
        "print(f\"P(X ≤ {x_check}) for Poisson(λ={lambda_val}) = {cdf_at_x:.4f}\")\n",
        "print(f\"Interpretation: There's a {cdf_at_x * 100:.2f}% chance that the count will be {x_check} or less.\")\n",
        "\n",
        "# Step 3: Plot the CDF\n",
        "plt.figure(figsize=(8, 5))\n",
        "plt.step(x_vals, cdf_vals, where='post', color='purple', label='Poisson CDF')\n",
        "plt.scatter(x_check, cdf_at_x, color='red', zorder=5, label=f'P(X ≤ {x_check}) = {cdf_at_x:.2f}')\n",
        "plt.title(f'Cumulative Distribution Function (CDF) of Poisson(λ={lambda_val})')\n",
        "plt.xlabel('x (number of occurrences)')\n",
        "plt.ylabel('Cumulative Probability')\n",
        "plt.grid(True, linestyle='--', alpha=0.5)\n",
        "plt.legend()\n",
        "plt.show()\n"
      ],
      "metadata": {
        "id": "9-sh3xcTJEOq"
      },
      "execution_count": null,
      "outputs": []
    },
    {
      "cell_type": "code",
      "source": [
        "#24. Simulate a random variable using a continuous uniform distribution and calculate its expected value ?\n",
        "import numpy as np\n",
        "import matplotlib.pyplot as plt\n",
        "\n",
        "# Step 1: Define bounds of the uniform distribution\n",
        "a = 10   # lower bound\n",
        "b = 20   # upper bound\n",
        "\n",
        "# Step 2: Simulate random variables\n",
        "n = 1000  # number of samples\n",
        "samples = np.random.uniform(a, b, n)\n",
        "\n",
        "# Step 3: Calculate expected value\n",
        "# Theoretical expected value of U(a, b) = (a + b) / 2\n",
        "theoretical_E = (a + b) / 2\n",
        "sample_mean = np.mean(samples)\n",
        "\n",
        "# Step 4: Print results\n",
        "print(f\"Theoretical Expected Value: {theoretical_E}\")\n",
        "print(f\"Sample Mean from Simulation: {sample_mean:.4f}\")\n",
        "\n",
        "# Step 5: Visualize the distribution\n",
        "plt.figure(figsize=(8, 5))\n",
        "plt.hist(samples, bins=30, color='lightgreen', edgecolor='black', density=True)\n",
        "plt.axvline(theoretical_E, color='red', linestyle='--', label='Theoretical E[X]')\n",
        "plt.axvline(sample_mean, color='blue', linestyle='--', label='Sample Mean')\n",
        "plt.title(f'Continuous Uniform Distribution U({a}, {b})')\n",
        "plt.xlabel('Value')\n",
        "plt.ylabel('Density')\n",
        "plt.legend()\n",
        "plt.grid(True, linestyle='--', alpha=0.5)\n",
        "plt.show()\n"
      ],
      "metadata": {
        "id": "nYfd8sycJSvS"
      },
      "execution_count": null,
      "outputs": []
    },
    {
      "cell_type": "code",
      "source": [
        "#25. Write a Python program to compare the standard deviations of two datasets and visualize the difference ?\n",
        "import numpy as np\n",
        "import matplotlib.pyplot as plt\n",
        "\n",
        "# Step 1: Create two datasets\n",
        "np.random.seed(0)  # For reproducibility\n",
        "data1 = np.random.normal(loc=50, scale=5, size=100)   # Mean = 50, SD = 5\n",
        "data2 = np.random.normal(loc=50, scale=15, size=100)  # Mean = 50, SD = 15\n",
        "\n",
        "# Step 2: Calculate standard deviations\n",
        "std1 = np.std(data1, ddof=1)  # Sample standard deviation\n",
        "std2 = np.std(data2, ddof=1)\n",
        "\n",
        "# Step 3: Print standard deviation comparison\n",
        "print(f\"Standard Deviation of Dataset 1: {std1:.2f}\")\n",
        "print(f\"Standard Deviation of Dataset 2: {std2:.2f}\")\n",
        "if std1 > std2:\n",
        "    print(\"Dataset 1 is more spread out.\")\n",
        "elif std2 > std1:\n",
        "    print(\"Dataset 2 is more spread out.\")\n",
        "else:\n",
        "    print(\"Both datasets have equal spread.\")\n",
        "\n",
        "# Step 4: Visualization\n",
        "plt.figure(figsize=(12, 5))\n",
        "\n",
        "# Histogram\n",
        "plt.subplot(1, 2, 1)\n",
        "plt.hist(data1, bins=15, alpha=0.6, color='blue', label=f'Dataset 1 (SD={std1:.2f})', edgecolor='black')\n",
        "plt.hist(data2, bins=15, alpha=0.6, color='orange', label=f'Dataset 2 (SD={std2:.2f})', edgecolor='black')\n",
        "plt.title(\"Histogram Comparison\")\n",
        "plt.xlabel(\"Value\")\n",
        "plt.ylabel(\"Frequency\")\n",
        "plt.legend()\n",
        "plt.grid(True, linestyle='--', alpha=0.5)\n",
        "\n",
        "# Boxplot\n",
        "plt.subplot(1, 2, 2)\n",
        "plt.boxplot([data1, data2], labels=['Dataset 1', 'Dataset 2'])\n",
        "plt.title(\"Boxplot Comparison\")\n",
        "plt.ylabel(\"Values\")\n",
        "plt.grid(True, linestyle='--', alpha=0.5)\n",
        "\n",
        "plt.tight_layout()\n",
        "plt.show()\n"
      ],
      "metadata": {
        "id": "vS6jg5pzJcIz"
      },
      "execution_count": null,
      "outputs": []
    },
    {
      "cell_type": "code",
      "source": [
        "#26.Calculate the range and interquartile range (IQR) of a dataset generated from a normal distribution ?\n",
        "import numpy as np\n",
        "import matplotlib.pyplot as plt\n",
        "\n",
        "# Step 1: Generate data from a normal distribution\n",
        "np.random.seed(42)\n",
        "data = np.random.normal(loc=100, scale=15, size=1000)  # mean=100, std=15\n",
        "\n",
        "# Step 2: Calculate range\n",
        "data_range = np.max(data) - np.min(data)\n",
        "\n",
        "# Step 3: Calculate IQR (Interquartile Range)\n",
        "Q1 = np.percentile(data, 25)\n",
        "Q3 = np.percentile(data, 75)\n",
        "iqr = Q3 - Q1\n",
        "\n",
        "# Step 4: Display results\n",
        "print(f\"Range of the dataset     : {data_range:.2f}\")\n",
        "print(f\"1st Quartile (Q1)        : {Q1:.2f}\")\n",
        "print(f\"3rd Quartile (Q3)        : {Q3:.2f}\")\n",
        "print(f\"Interquartile Range (IQR): {iqr:.2f}\")\n",
        "\n",
        "# Step 5: Visualize with a boxplot\n",
        "plt.figure(figsize=(6, 4))\n",
        "plt.boxplot(data, vert=False, patch_artist=True, boxprops=dict(facecolor='lightblue'))\n",
        "plt.title('Boxplot of Normally Distributed Data')\n",
        "plt.xlabel('Value')\n",
        "plt.grid(True, linestyle='--', alpha=0.5)\n",
        "plt.show()\n",
        "\n"
      ],
      "metadata": {
        "id": "1YBknuEALL-Y"
      },
      "execution_count": null,
      "outputs": []
    },
    {
      "cell_type": "code",
      "source": [
        "#27.Implement Z-score normalization on a dataset and visualize its transformation ?\n",
        "import numpy as np\n",
        "import matplotlib.pyplot as plt\n",
        "\n",
        "# Step 1: Generate a sample dataset (not standard normal)\n",
        "np.random.seed(0)\n",
        "data = np.random.normal(loc=100, scale=20, size=1000)  # Mean=100, Std=20\n",
        "\n",
        "# Step 2: Apply Z-score normalization\n",
        "mean = np.mean(data)\n",
        "std = np.std(data)\n",
        "z_scores = (data - mean) / std\n",
        "\n",
        "# Step 3: Print a summary\n",
        "print(f\"Original Mean: {mean:.\n"
      ],
      "metadata": {
        "id": "SMEpCnbSLbbH"
      },
      "execution_count": null,
      "outputs": []
    },
    {
      "cell_type": "code",
      "source": [
        "#28.Write a Python function to calculate the skewness and kurtosis of a dataset generated from a normal distribution.\n",
        "import numpy as np\n",
        "from scipy.stats import skew, kurtosis\n",
        "\n",
        "def analyze_normal_distribution_skew_kurtosis(mean=0, std=1, size=1000):\n",
        "    \"\"\"\n",
        "    Generates data from a normal distribution and calculates skewness and kurtosis.\n",
        "\n",
        "    Parameters:\n",
        "    - mean: Mean of the distribution\n",
        "    - std: Standard deviation\n",
        "    - size: Number of samples\n",
        "\n",
        "    Returns:\n",
        "    - skewness and kurtosis values\n",
        "    \"\"\"\n",
        "    # Generate the data\n",
        "    data = np.random.normal(loc=mean, scale=std, size=size)\n",
        "\n",
        "    # Calculate skewness and kurtosis\n",
        "    skew_val = skew(data)\n",
        "    kurt_val = kurtosis(data)  # default is Fisher’s definition (normal ==> 0)\n",
        "\n",
        "    # Print results\n",
        "    print(f\"Skewness : {skew_val:.4f}\")\n",
        "    print(f\"Kurtosis : {kurt_val:.4f}\")\n",
        "\n",
        "    # Interpret\n",
        "\n"
      ],
      "metadata": {
        "id": "UMorhGHsLmk1"
      },
      "execution_count": null,
      "outputs": []
    }
  ]
}